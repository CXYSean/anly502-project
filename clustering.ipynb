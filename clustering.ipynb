{
 "cells": [
  {
   "cell_type": "code",
   "execution_count": 1,
   "metadata": {},
   "outputs": [],
   "source": [
    "import findspark\n",
    "findspark.init()\n",
    "from pyspark import SparkContext\n",
    "from pyspark.sql import SparkSession\n",
    "spark = SparkSession.builder \\\n",
    "     .appName(\"Test SparkSession\") \\\n",
    "     .getOrCreate()"
   ]
  },
  {
   "cell_type": "code",
   "execution_count": 5,
   "metadata": {},
   "outputs": [],
   "source": [
    "scaler_00 = spark.read.csv(\"s3://chenxiyuanly502/project/scaler_00\")"
   ]
  },
  {
   "cell_type": "code",
   "execution_count": 9,
   "metadata": {},
   "outputs": [],
   "source": [
    "scaler_18 = spark.read.csv(\"s3://chenxiyuanly502/project/scaler_18\")"
   ]
  },
  {
   "cell_type": "code",
   "execution_count": 8,
   "metadata": {},
   "outputs": [
    {
     "name": "stdout",
     "output_type": "stream",
     "text": [
      "+-----------+-----+-----+-----+-----+-----+-----+-----+-----+-----+-----+-----+\n",
      "|        _c0|  _c1|  _c2|  _c3|  _c4|  _c5|  _c6|  _c7|  _c8|  _c9| _c10| _c11|\n",
      "+-----------+-----+-----+-----+-----+-----+-----+-----+-----+-----+-----+-----+\n",
      "|      ! God|0.002|0.004|0.001|0.001|0.002|0.002|0.002|0.003|0.002|0.002|0.003|\n",
      "|       ! in|0.001|0.002|0.001|0.001|0.002|0.002|0.002|0.003|0.002|0.002|0.002|\n",
      "|         \"!|0.006|0.007|0.005|0.005|0.005|0.005|0.005|0.005|0.003|0.004|0.004|\n",
      "|   \"\"\" 128\"|  0.0|  0.0|  0.0|  0.0|  0.0|  0.0|  0.0|  0.0|  0.0|  0.0|  0.0|\n",
      "|\"\"\" Before\"|0.013|0.026|0.006|0.009|0.009|0.008|0.007|0.007|0.007|0.008|0.008|\n",
      "+-----------+-----+-----+-----+-----+-----+-----+-----+-----+-----+-----+-----+\n",
      "only showing top 5 rows\n",
      "\n"
     ]
    }
   ],
   "source": [
    "scaler_00.show(5)"
   ]
  },
  {
   "cell_type": "code",
   "execution_count": 10,
   "metadata": {},
   "outputs": [
    {
     "name": "stdout",
     "output_type": "stream",
     "text": [
      "root\n",
      " |-- _c0: string (nullable = true)\n",
      " |-- _c1: string (nullable = true)\n",
      " |-- _c2: string (nullable = true)\n",
      " |-- _c3: string (nullable = true)\n",
      " |-- _c4: string (nullable = true)\n",
      " |-- _c5: string (nullable = true)\n",
      " |-- _c6: string (nullable = true)\n",
      " |-- _c7: string (nullable = true)\n",
      " |-- _c8: string (nullable = true)\n",
      " |-- _c9: string (nullable = true)\n",
      " |-- _c10: string (nullable = true)\n",
      " |-- _c11: string (nullable = true)\n",
      " |-- _c12: string (nullable = true)\n",
      " |-- _c13: string (nullable = true)\n",
      " |-- _c14: string (nullable = true)\n",
      "\n"
     ]
    }
   ],
   "source": [
    "scaler_18.printSchema()"
   ]
  },
  {
   "cell_type": "code",
   "execution_count": 11,
   "metadata": {},
   "outputs": [
    {
     "name": "stdout",
     "output_type": "stream",
     "text": [
      "+-----+-----+-----+-----+-----+----+-----+----+-----+-----+-----+-----+-----+-----+-----+\n",
      "|  _c0|  _c1|  _c2|  _c3|  _c4| _c5|  _c6| _c7|  _c8|  _c9| _c10| _c11| _c12| _c13| _c14|\n",
      "+-----+-----+-----+-----+-----+----+-----+----+-----+-----+-----+-----+-----+-----+-----+\n",
      "|! God| 6627| 3697|  0.0|0.001|2980|0.001|3135|0.001|  0.0|0.001|0.001|  0.0|  0.0|  0.0|\n",
      "|! God| 6627| 3697|  0.0|0.001|2980|0.001|3135|0.001|  0.0|0.001|0.001|  0.0|  0.0|  0.0|\n",
      "| ! in| 8564| 6388|0.001|0.001|4487|0.001|5531|0.001|0.001|0.001|0.001|0.002|0.002|0.001|\n",
      "| ! in| 8564| 6388|0.001|0.001|4487|0.001|5531|0.001|0.001|0.001|0.001|0.002|0.002|0.001|\n",
      "|   \"!|11952|12044|0.002|0.001|8408|0.002|9588|0.002|0.002|0.002|0.002|0.005|0.004|0.002|\n",
      "+-----+-----+-----+-----+-----+----+-----+----+-----+-----+-----+-----+-----+-----+-----+\n",
      "only showing top 5 rows\n",
      "\n"
     ]
    }
   ],
   "source": [
    "scaler_18.show(5)"
   ]
  },
  {
   "cell_type": "code",
   "execution_count": 13,
   "metadata": {},
   "outputs": [
    {
     "name": "stdout",
     "output_type": "stream",
     "text": [
      "root\n",
      " |-- _c0: string (nullable = true)\n",
      " |-- _c3: string (nullable = true)\n",
      " |-- _c4: string (nullable = true)\n",
      " |-- _c6: string (nullable = true)\n",
      " |-- _c8: string (nullable = true)\n",
      " |-- _c9: string (nullable = true)\n",
      " |-- _c10: string (nullable = true)\n",
      " |-- _c11: string (nullable = true)\n",
      " |-- _c12: string (nullable = true)\n",
      " |-- _c13: string (nullable = true)\n",
      " |-- _c14: string (nullable = true)\n",
      "\n"
     ]
    }
   ],
   "source": [
    "scaler_18 = scaler_18.drop('_c1')\n",
    "scaler_18 = scaler_18.drop('_c2')\n",
    "scaler_18 = scaler_18.drop('_c5')\n",
    "scaler_18 = scaler_18.drop('_c7')\n",
    "scaler_18.printSchema()"
   ]
  },
  {
   "cell_type": "code",
   "execution_count": 14,
   "metadata": {},
   "outputs": [
    {
     "name": "stdout",
     "output_type": "stream",
     "text": [
      "root\n",
      " |-- ngram: string (nullable = true)\n",
      " |-- y1990: string (nullable = true)\n",
      " |-- y2000: string (nullable = true)\n",
      " |-- y1970: string (nullable = true)\n",
      " |-- y1980: string (nullable = true)\n",
      " |-- y1940: string (nullable = true)\n",
      " |-- y1950: string (nullable = true)\n",
      " |-- y1960: string (nullable = true)\n",
      " |-- y1900: string (nullable = true)\n",
      " |-- y1910: string (nullable = true)\n",
      " |-- y1920: string (nullable = true)\n",
      " |-- y1930: string (nullable = true)\n",
      "\n"
     ]
    }
   ],
   "source": [
    "newColumns =['ngram','y1990','y2000','y1970','y1980','y1940','y1950','y1960','y1900','y1910','y1920','y1930']\n",
    "oldColumns = scaler_00.schema.names\n",
    "for i in range(len(oldColumns)):\n",
    "    scaler_00 = scaler_00.withColumnRenamed(oldColumns[i], newColumns[i])\n",
    "scaler_00.printSchema()"
   ]
  },
  {
   "cell_type": "code",
   "execution_count": 15,
   "metadata": {},
   "outputs": [
    {
     "name": "stdout",
     "output_type": "stream",
     "text": [
      "+-----------+-----+-----+-----+-----+-----+-----+-----+-----+-----+-----+-----+\n",
      "|      ngram|y1990|y2000|y1970|y1980|y1940|y1950|y1960|y1900|y1910|y1920|y1930|\n",
      "+-----------+-----+-----+-----+-----+-----+-----+-----+-----+-----+-----+-----+\n",
      "|      ! God|0.002|0.004|0.001|0.001|0.002|0.002|0.002|0.003|0.002|0.002|0.003|\n",
      "|       ! in|0.001|0.002|0.001|0.001|0.002|0.002|0.002|0.003|0.002|0.002|0.002|\n",
      "|         \"!|0.006|0.007|0.005|0.005|0.005|0.005|0.005|0.005|0.003|0.004|0.004|\n",
      "|   \"\"\" 128\"|  0.0|  0.0|  0.0|  0.0|  0.0|  0.0|  0.0|  0.0|  0.0|  0.0|  0.0|\n",
      "|\"\"\" Before\"|0.013|0.026|0.006|0.009|0.009|0.008|0.007|0.007|0.007|0.008|0.008|\n",
      "+-----------+-----+-----+-----+-----+-----+-----+-----+-----+-----+-----+-----+\n",
      "only showing top 5 rows\n",
      "\n"
     ]
    }
   ],
   "source": [
    "for i in range(1,len(newColumns)):\n",
    "    scaler_00 = scaler_00.withColumn(newColumns[i],  scaler_00[newColumns[i]].cast('double'))\n",
    "scaler_00.show(5)    "
   ]
  },
  {
   "cell_type": "code",
   "execution_count": 16,
   "metadata": {},
   "outputs": [
    {
     "name": "stdout",
     "output_type": "stream",
     "text": [
      "root\n",
      " |-- ngram: string (nullable = true)\n",
      " |-- y1990: double (nullable = true)\n",
      " |-- y2000: double (nullable = true)\n",
      " |-- y1970: double (nullable = true)\n",
      " |-- y1980: double (nullable = true)\n",
      " |-- y1940: double (nullable = true)\n",
      " |-- y1950: double (nullable = true)\n",
      " |-- y1960: double (nullable = true)\n",
      " |-- y1900: double (nullable = true)\n",
      " |-- y1910: double (nullable = true)\n",
      " |-- y1920: double (nullable = true)\n",
      " |-- y1930: double (nullable = true)\n",
      "\n"
     ]
    }
   ],
   "source": [
    "scaler_00.printSchema()"
   ]
  },
  {
   "cell_type": "code",
   "execution_count": 17,
   "metadata": {},
   "outputs": [
    {
     "name": "stdout",
     "output_type": "stream",
     "text": [
      "root\n",
      " |-- ngram: string (nullable = true)\n",
      " |-- y1880: string (nullable = true)\n",
      " |-- y1890: string (nullable = true)\n",
      " |-- y1860: string (nullable = true)\n",
      " |-- y1870: string (nullable = true)\n",
      " |-- y1830: string (nullable = true)\n",
      " |-- y1840: string (nullable = true)\n",
      " |-- y1850: string (nullable = true)\n",
      " |-- y1800: string (nullable = true)\n",
      " |-- y1810: string (nullable = true)\n",
      " |-- y1820: string (nullable = true)\n",
      "\n"
     ]
    }
   ],
   "source": [
    "newColumns_18 =['ngram','y1880','y1890','y1860','y1870','y1830','y1840','y1850','y1800','y1810','y1820']\n",
    "oldColumns_18 = scaler_18.schema.names\n",
    "for i in range(len(oldColumns_18)):\n",
    "    scaler_18 = scaler_18.withColumnRenamed(oldColumns_18[i], newColumns_18[i])\n",
    "scaler_18.printSchema()"
   ]
  },
  {
   "cell_type": "code",
   "execution_count": 18,
   "metadata": {},
   "outputs": [
    {
     "name": "stdout",
     "output_type": "stream",
     "text": [
      "+-----+-----+-----+-----+-----+-----+-----+-----+-----+-----+-----+\n",
      "|ngram|y1880|y1890|y1860|y1870|y1830|y1840|y1850|y1800|y1810|y1820|\n",
      "+-----+-----+-----+-----+-----+-----+-----+-----+-----+-----+-----+\n",
      "|! God|  0.0|0.001|0.001|0.001|  0.0|0.001|0.001|  0.0|  0.0|  0.0|\n",
      "|! God|  0.0|0.001|0.001|0.001|  0.0|0.001|0.001|  0.0|  0.0|  0.0|\n",
      "| ! in|0.001|0.001|0.001|0.001|0.001|0.001|0.001|0.002|0.002|0.001|\n",
      "| ! in|0.001|0.001|0.001|0.001|0.001|0.001|0.001|0.002|0.002|0.001|\n",
      "|   \"!|0.002|0.001|0.002|0.002|0.002|0.002|0.002|0.005|0.004|0.002|\n",
      "+-----+-----+-----+-----+-----+-----+-----+-----+-----+-----+-----+\n",
      "only showing top 5 rows\n",
      "\n"
     ]
    }
   ],
   "source": [
    "for i in range(1,len(newColumns_18)):\n",
    "    scaler_18 = scaler_18.withColumn(newColumns_18[i],  scaler_18[newColumns_18[i]].cast('double'))\n",
    "scaler_18.show(5)  "
   ]
  },
  {
   "cell_type": "code",
   "execution_count": 19,
   "metadata": {},
   "outputs": [
    {
     "name": "stdout",
     "output_type": "stream",
     "text": [
      "root\n",
      " |-- ngram: string (nullable = true)\n",
      " |-- y1880: double (nullable = true)\n",
      " |-- y1890: double (nullable = true)\n",
      " |-- y1860: double (nullable = true)\n",
      " |-- y1870: double (nullable = true)\n",
      " |-- y1830: double (nullable = true)\n",
      " |-- y1840: double (nullable = true)\n",
      " |-- y1850: double (nullable = true)\n",
      " |-- y1800: double (nullable = true)\n",
      " |-- y1810: double (nullable = true)\n",
      " |-- y1820: double (nullable = true)\n",
      "\n"
     ]
    }
   ],
   "source": [
    "scaler_18.printSchema()"
   ]
  },
  {
   "cell_type": "code",
   "execution_count": 20,
   "metadata": {},
   "outputs": [],
   "source": [
    "df = scaler_00.join(scaler_18, ['ngram'])"
   ]
  },
  {
   "cell_type": "code",
   "execution_count": 21,
   "metadata": {},
   "outputs": [
    {
     "name": "stdout",
     "output_type": "stream",
     "text": [
      "root\n",
      " |-- ngram: string (nullable = true)\n",
      " |-- y1990: double (nullable = true)\n",
      " |-- y2000: double (nullable = true)\n",
      " |-- y1970: double (nullable = true)\n",
      " |-- y1980: double (nullable = true)\n",
      " |-- y1940: double (nullable = true)\n",
      " |-- y1950: double (nullable = true)\n",
      " |-- y1960: double (nullable = true)\n",
      " |-- y1900: double (nullable = true)\n",
      " |-- y1910: double (nullable = true)\n",
      " |-- y1920: double (nullable = true)\n",
      " |-- y1930: double (nullable = true)\n",
      " |-- y1880: double (nullable = true)\n",
      " |-- y1890: double (nullable = true)\n",
      " |-- y1860: double (nullable = true)\n",
      " |-- y1870: double (nullable = true)\n",
      " |-- y1830: double (nullable = true)\n",
      " |-- y1840: double (nullable = true)\n",
      " |-- y1850: double (nullable = true)\n",
      " |-- y1800: double (nullable = true)\n",
      " |-- y1810: double (nullable = true)\n",
      " |-- y1820: double (nullable = true)\n",
      "\n"
     ]
    }
   ],
   "source": [
    "df.printSchema()"
   ]
  },
  {
   "cell_type": "code",
   "execution_count": 22,
   "metadata": {},
   "outputs": [
    {
     "name": "stdout",
     "output_type": "stream",
     "text": [
      "+-----+-----+-----+-----+-----+-----+-----+-----+-----+-----+-----+-----+-----+-----+-----+-----+-----+-----+-----+-----+-----+-----+\n",
      "|ngram|y1990|y2000|y1970|y1980|y1940|y1950|y1960|y1900|y1910|y1920|y1930|y1880|y1890|y1860|y1870|y1830|y1840|y1850|y1800|y1810|y1820|\n",
      "+-----+-----+-----+-----+-----+-----+-----+-----+-----+-----+-----+-----+-----+-----+-----+-----+-----+-----+-----+-----+-----+-----+\n",
      "|! God|0.002|0.004|0.001|0.001|0.002|0.002|0.002|0.003|0.002|0.002|0.003|  0.0|0.001|0.001|0.001|  0.0|0.001|0.001|  0.0|  0.0|  0.0|\n",
      "|! God|0.002|0.004|0.001|0.001|0.002|0.002|0.002|0.003|0.002|0.002|0.003|  0.0|0.001|0.001|0.001|  0.0|0.001|0.001|  0.0|  0.0|  0.0|\n",
      "| ! in|0.001|0.002|0.001|0.001|0.002|0.002|0.002|0.003|0.002|0.002|0.002|0.001|0.001|0.001|0.001|0.001|0.001|0.001|0.002|0.002|0.001|\n",
      "| ! in|0.001|0.002|0.001|0.001|0.002|0.002|0.002|0.003|0.002|0.002|0.002|0.001|0.001|0.001|0.001|0.001|0.001|0.001|0.002|0.002|0.001|\n",
      "|   \"!|0.006|0.007|0.005|0.005|0.005|0.005|0.005|0.005|0.003|0.004|0.004|0.002|0.001|0.002|0.002|0.002|0.002|0.002|0.005|0.004|0.002|\n",
      "+-----+-----+-----+-----+-----+-----+-----+-----+-----+-----+-----+-----+-----+-----+-----+-----+-----+-----+-----+-----+-----+-----+\n",
      "only showing top 5 rows\n",
      "\n"
     ]
    }
   ],
   "source": [
    "df.show(5)"
   ]
  },
  {
   "cell_type": "code",
   "execution_count": 23,
   "metadata": {},
   "outputs": [],
   "source": [
    "from pyspark.ml.clustering import KMeans\n",
    "from pyspark.ml.evaluation import ClusteringEvaluator"
   ]
  },
  {
   "cell_type": "code",
   "execution_count": 24,
   "metadata": {},
   "outputs": [],
   "source": [
    "km_data = df.drop('ngram')"
   ]
  },
  {
   "cell_type": "code",
   "execution_count": 25,
   "metadata": {},
   "outputs": [],
   "source": [
    "kmeans = KMeans(k=5, seed=1)"
   ]
  },
  {
   "cell_type": "code",
   "execution_count": 26,
   "metadata": {},
   "outputs": [],
   "source": [
    "from pyspark.ml.feature import VectorAssembler\n",
    "vecAssembler = VectorAssembler(inputCols=km_data.columns, outputCol=\"features\")\n",
    "new_df = vecAssembler.transform(km_data)"
   ]
  },
  {
   "cell_type": "code",
   "execution_count": 27,
   "metadata": {},
   "outputs": [],
   "source": [
    "model = kmeans.fit(new_df)"
   ]
  },
  {
   "cell_type": "code",
   "execution_count": 28,
   "metadata": {},
   "outputs": [],
   "source": [
    "predictions = model.transform(new_df)"
   ]
  },
  {
   "cell_type": "code",
   "execution_count": 29,
   "metadata": {},
   "outputs": [
    {
     "name": "stdout",
     "output_type": "stream",
     "text": [
      "Silhouette with squared euclidean distance = 0.9466562176321367\n"
     ]
    }
   ],
   "source": [
    "evaluator = ClusteringEvaluator()\n",
    "\n",
    "silhouette = evaluator.evaluate(predictions)\n",
    "print(\"Silhouette with squared euclidean distance = \" + str(silhouette))"
   ]
  },
  {
   "cell_type": "code",
   "execution_count": 30,
   "metadata": {},
   "outputs": [
    {
     "name": "stdout",
     "output_type": "stream",
     "text": [
      "Cluster Centers: \n",
      "[0.00250339 0.00380696 0.00218977 0.00231012 0.00247231 0.00242962\n",
      " 0.00252964 0.00220418 0.00238062 0.00254338 0.00246289 0.0003022\n",
      " 0.00033831 0.00041487 0.00039901 0.00038762 0.00038417 0.00039456\n",
      " 0.00034993 0.00038182 0.00038678]\n",
      "[0.46582474 0.70010309 0.39610309 0.41617526 0.44890722 0.44354639\n",
      " 0.45690722 0.38095876 0.41369072 0.44958763 0.44529897 0.08925773\n",
      " 0.09492784 0.09359794 0.0903299  0.08376289 0.0838866  0.08717526\n",
      " 0.07619588 0.07862887 0.08053608]\n",
      "[0.25742492 0.40483067 0.19686901 0.21602236 0.2225016  0.22015655\n",
      " 0.22603834 0.18407029 0.19605112 0.21697764 0.21874441 0.04155591\n",
      " 0.04566134 0.04347604 0.04200958 0.03707668 0.03779872 0.03961661\n",
      " 0.03286901 0.03405431 0.03554313]\n",
      "[0.11394969 0.1738985  0.08848102 0.09694616 0.09818182 0.09709444\n",
      " 0.10002471 0.07973963 0.08669815 0.0949541  0.09579788 0.01799294\n",
      " 0.01970609 0.01879435 0.01824095 0.01622154 0.01647485 0.0171827\n",
      " 0.01450662 0.0150256  0.01561606]\n",
      "[0.03443546 0.05104219 0.02726051 0.02968078 0.02976383 0.0295132\n",
      " 0.03062959 0.02391164 0.02642115 0.02884054 0.02893244 0.00538531\n",
      " 0.00580351 0.00571766 0.00557649 0.00502611 0.00509411 0.00530934\n",
      " 0.00450686 0.00474849 0.00486974]\n"
     ]
    }
   ],
   "source": [
    "centers = model.clusterCenters()\n",
    "print(\"Cluster Centers: \")\n",
    "for center in centers:\n",
    "    print(center)"
   ]
  },
  {
   "cell_type": "code",
   "execution_count": 31,
   "metadata": {},
   "outputs": [
    {
     "name": "stdout",
     "output_type": "stream",
     "text": [
      "Silhouette with squared euclidean distance = 0.9929193229160893\n",
      "Silhouette with squared euclidean distance = 0.9786287742883587\n",
      "Silhouette with squared euclidean distance = 0.9634899413524292\n",
      "Silhouette with squared euclidean distance = 0.9466562176321365\n",
      "Silhouette with squared euclidean distance = 0.9350244165184387\n",
      "Silhouette with squared euclidean distance = 0.8940362495232261\n",
      "Silhouette with squared euclidean distance = 0.9085020625078081\n",
      "Silhouette with squared euclidean distance = 0.8507366511576855\n",
      "Silhouette with squared euclidean distance = 0.8908065955230743\n"
     ]
    }
   ],
   "source": [
    "for i in range(2, 11):\n",
    "    kmeans = KMeans(k=i, seed=1)\n",
    "    from pyspark.ml.feature import VectorAssembler\n",
    "    vecAssembler = VectorAssembler(inputCols=km_data.columns, outputCol=\"features\")\n",
    "    new_df = vecAssembler.transform(km_data)\n",
    "    model = kmeans.fit(new_df)\n",
    "    predictions = model.transform(new_df)\n",
    "    evaluator = ClusteringEvaluator()\n",
    "    silhouette = evaluator.evaluate(predictions)\n",
    "    print(\"Silhouette with squared euclidean distance = \" + str(silhouette))"
   ]
  },
  {
   "cell_type": "code",
   "execution_count": 52,
   "metadata": {},
   "outputs": [
    {
     "data": {
      "image/png": "[encoded data removed]",
      "text/plain": [
       "<Figure size 432x288 with 1 Axes>"
      ]
     },
     "metadata": {
      "needs_background": "light"
     },
     "output_type": "display_data"
    }
   ],
   "source": [
    "import matplotlib.pyplot as plt\n",
    "x = [2, 3, 4, 5, 6, 7, 8, 9, 10]\n",
    "y = [.993, .979, .963, .947, .935, .894, .906, .851, .891]\n",
    "plt.plot(x, y, 'g--')\n",
    "plt.scatter(x, y)\n",
    "plt.axis([1, 11, 0.8, 1])\n",
    "plt.xlabel(\"Number of k\")\n",
    "plt.title(\"Silhouette with squared euclidean distance\")\n",
    "plt.show()"
   ]
  },
  {
   "cell_type": "code",
   "execution_count": null,
   "metadata": {},
   "outputs": [],
   "source": []
  }
 ],
 "metadata": {
  "kernelspec": {
   "display_name": "Python 3",
   "language": "python",
   "name": "python3"
  },
  "language_info": {
   "codemirror_mode": {
    "name": "ipython",
    "version": 3
   },
   "file_extension": ".py",
   "mimetype": "text/x-python",
   "name": "python",
   "nbconvert_exporter": "python",
   "pygments_lexer": "ipython3",
   "version": "3.7.6"
  }
 },
 "nbformat": 4,
 "nbformat_minor": 4
}
